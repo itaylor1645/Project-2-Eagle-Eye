{
 "cells": [
  {
   "cell_type": "code",
   "execution_count": 4,
   "metadata": {},
   "outputs": [],
   "source": [
    "import pandas as pd"
   ]
  },
  {
   "cell_type": "code",
   "execution_count": null,
   "metadata": {},
   "outputs": [],
   "source": [
    "# Load the CSV file\n",
    "file_path = 'uncleaned_data.csv'  # Replace with your actual file path if different\n",
    "data = pd.read_csv(C:\\Users\\Kevin\\Documents\\AI Bootcamp\\Projects\\Project-2-Eagle-Eye\\uncleaned_data.csv.csv)\n"
   ]
  },
  {
   "cell_type": "code",
   "execution_count": null,
   "metadata": {},
   "outputs": [],
   "source": [
    "# Step 1: Drop the Unnamed: 0 column\n",
    "data_cleaned = data.drop(columns=['Unnamed: 0'])\n",
    "\n",
    "# Step 2: Handle missing values\n",
    "data_cleaned['artists'].fillna('Unknown', inplace=True)\n",
    "data_cleaned['album_name'].fillna('Unknown', inplace=True)\n",
    "data_cleaned['track_name'].fillna('Unknown', inplace=True)\n",
    "\n",
    "# Verify the cleaned data\n",
    "print(data_cleaned.head())\n",
    "print(data_cleaned.info())"
   ]
  }
 ],
 "metadata": {
  "kernelspec": {
   "display_name": "Python 3",
   "language": "python",
   "name": "python3"
  },
  "language_info": {
   "codemirror_mode": {
    "name": "ipython",
    "version": 3
   },
   "file_extension": ".py",
   "mimetype": "text/x-python",
   "name": "python",
   "nbconvert_exporter": "python",
   "pygments_lexer": "ipython3",
   "version": "3.12.0"
  }
 },
 "nbformat": 4,
 "nbformat_minor": 2
}
